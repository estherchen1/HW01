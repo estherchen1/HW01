{
  "nbformat": 4,
  "nbformat_minor": 0,
  "metadata": {
    "accelerator": "GPU",
    "colab": {
      "name": "Copy of ps2.ipynb",
      "provenance": [],
      "collapsed_sections": [],
      "include_colab_link": true
    },
    "kernelspec": {
      "display_name": "Python 3",
      "language": "python",
      "name": "python3"
    },
    "language_info": {
      "codemirror_mode": {
        "name": "ipython",
        "version": 3
      },
      "file_extension": ".py",
      "mimetype": "text/x-python",
      "name": "python",
      "nbconvert_exporter": "python",
      "pygments_lexer": "ipython3",
      "version": "3.7.5"
    }
  },
  "cells": [
    {
      "cell_type": "markdown",
      "metadata": {
        "id": "view-in-github",
        "colab_type": "text"
      },
      "source": [
        "<a href=\"https://colab.research.google.com/github/estherchen1/HW01/blob/master/Copy_of_ps2.ipynb\" target=\"_parent\"><img src=\"https://colab.research.google.com/assets/colab-badge.svg\" alt=\"Open In Colab\"/></a>"
      ]
    },
    {
      "cell_type": "markdown",
      "metadata": {
        "colab_type": "text",
        "id": "nSYV3U4JZdzt"
      },
      "source": [
        "## Goals\n",
        "\n",
        "The goals of the coding part of this homework assignment are to:\n",
        " * Practice specifying and fitting linear regression and multinomial regression models in Keras\n",
        " * See how you can do the calculations to generate predictions from these models directly in numpy"
      ]
    },
    {
      "cell_type": "markdown",
      "metadata": {
        "colab_type": "text",
        "id": "qO0Kphe9bPJk"
      },
      "source": [
        "## Module Imports\n",
        "Please add code below to import numpy and any keras submodules you need.  Set a seed for random number generation from numpy before importing keras.  I've already imported pandas, a function to get train/test splits, and a softmax function."
      ]
    },
    {
      "cell_type": "code",
      "metadata": {
        "colab_type": "code",
        "id": "1FzuhTFCZHoY",
        "outputId": "7b420a52-f301-41a6-c047-a7643c2cb6a7",
        "colab": {
          "base_uri": "https://localhost:8080/",
          "height": 81
        }
      },
      "source": [
        "import pandas as pd\n",
        "from scipy.special import softmax\n",
        "from sklearn.model_selection import train_test_split\n",
        "\n",
        "import numpy as np\n",
        "np.random.seed(38439784)\n",
        "\n",
        "import matplotlib.pyplot as plt\n",
        "\n",
        "from keras import models\n",
        "from keras import Sequential\n",
        "from keras import layers\n"
      ],
      "execution_count": 0,
      "outputs": [
        {
          "output_type": "stream",
          "text": [
            "Using TensorFlow backend.\n"
          ],
          "name": "stderr"
        },
        {
          "output_type": "display_data",
          "data": {
            "text/html": [
              "<p style=\"color: red;\">\n",
              "The default version of TensorFlow in Colab will soon switch to TensorFlow 2.x.<br>\n",
              "We recommend you <a href=\"https://www.tensorflow.org/guide/migrate\" target=\"_blank\">upgrade</a> now \n",
              "or ensure your notebook will continue to use TensorFlow 1.x via the <code>%tensorflow_version 1.x</code> magic:\n",
              "<a href=\"https://colab.research.google.com/notebooks/tensorflow_version.ipynb\" target=\"_blank\">more info</a>.</p>\n"
            ],
            "text/plain": [
              "<IPython.core.display.HTML object>"
            ]
          },
          "metadata": {
            "tags": []
          }
        }
      ]
    },
    {
      "cell_type": "markdown",
      "metadata": {
        "colab_type": "text",
        "id": "Ht1fJQimoAZT"
      },
      "source": [
        "## Problem 1: House sale price prediction\n",
        "We have a data set with a number of characteristics of houses sold in the city of Ames, IA, as well as the sale price of the house.  Let's fit a model to predict sales price of a house.  (Original data source: De Cock, D. (2011). Journal of Statistics Education, Volume 19, Number 3.)\n"
      ]
    },
    {
      "cell_type": "code",
      "metadata": {
        "colab_type": "code",
        "id": "Mox46aAzn_jj",
        "outputId": "c3a4e079-63cd-46e1-cd58-bc02ae27eec0",
        "colab": {
          "base_uri": "https://localhost:8080/",
          "height": 581
        }
      },
      "source": [
        "# read in data\n",
        "house_prices = pd.read_csv(\"http://www.evanlray.com/data/AmesHousing/AmesHousing.csv\")\n",
        "house_prices = house_prices[['Overall_Qual', 'Overall_Cond', 'Lot_Area',\n",
        "  'Bldg_Type', 'Street', 'Total_Bsmt_SF', 'Heating_QC', 'Gr_Liv_Area',\n",
        "  'Bsmt_Full_Bath', 'Fireplaces', 'Garage_Cars', 'Garage_Area', 'Wood_Deck_SF',\n",
        "  'Year_Built', 'Year_Remod_Add', 'Sale_Price']]\n",
        "house_prices = pd.get_dummies(house_prices, drop_first = True)\n",
        "\n",
        "# how much data do we have?\n",
        "print(\"shape of house_prices = \" + str(house_prices.shape))\n",
        "print(house_prices)\n",
        "\n",
        "house_prices.describe(include = 'all')\n"
      ],
      "execution_count": 0,
      "outputs": [
        {
          "output_type": "stream",
          "text": [
            "shape of house_prices = (2930, 37)\n",
            "      Lot_Area  Total_Bsmt_SF  ...  Heating_QC_Poor  Heating_QC_Typical\n",
            "0        31770           1080  ...                0                   0\n",
            "1        11622            882  ...                0                   1\n",
            "2        14267           1329  ...                0                   1\n",
            "3        11160           2110  ...                0                   0\n",
            "4        13830            928  ...                0                   0\n",
            "...        ...            ...  ...              ...                 ...\n",
            "2925      7937           1003  ...                0                   1\n",
            "2926      8885            864  ...                0                   1\n",
            "2927     10441            912  ...                0                   1\n",
            "2928     10010           1389  ...                0                   0\n",
            "2929      9627            996  ...                0                   0\n",
            "\n",
            "[2930 rows x 37 columns]\n"
          ],
          "name": "stdout"
        },
        {
          "output_type": "execute_result",
          "data": {
            "text/html": [
              "<div>\n",
              "<style scoped>\n",
              "    .dataframe tbody tr th:only-of-type {\n",
              "        vertical-align: middle;\n",
              "    }\n",
              "\n",
              "    .dataframe tbody tr th {\n",
              "        vertical-align: top;\n",
              "    }\n",
              "\n",
              "    .dataframe thead th {\n",
              "        text-align: right;\n",
              "    }\n",
              "</style>\n",
              "<table border=\"1\" class=\"dataframe\">\n",
              "  <thead>\n",
              "    <tr style=\"text-align: right;\">\n",
              "      <th></th>\n",
              "      <th>Lot_Area</th>\n",
              "      <th>Total_Bsmt_SF</th>\n",
              "      <th>Gr_Liv_Area</th>\n",
              "      <th>Bsmt_Full_Bath</th>\n",
              "      <th>Fireplaces</th>\n",
              "      <th>Garage_Cars</th>\n",
              "      <th>Garage_Area</th>\n",
              "      <th>Wood_Deck_SF</th>\n",
              "      <th>Year_Built</th>\n",
              "      <th>Year_Remod_Add</th>\n",
              "      <th>Sale_Price</th>\n",
              "      <th>Overall_Qual_Average</th>\n",
              "      <th>Overall_Qual_Below_Average</th>\n",
              "      <th>Overall_Qual_Excellent</th>\n",
              "      <th>Overall_Qual_Fair</th>\n",
              "      <th>Overall_Qual_Good</th>\n",
              "      <th>Overall_Qual_Poor</th>\n",
              "      <th>Overall_Qual_Very_Excellent</th>\n",
              "      <th>Overall_Qual_Very_Good</th>\n",
              "      <th>Overall_Qual_Very_Poor</th>\n",
              "      <th>Overall_Cond_Average</th>\n",
              "      <th>Overall_Cond_Below_Average</th>\n",
              "      <th>Overall_Cond_Excellent</th>\n",
              "      <th>Overall_Cond_Fair</th>\n",
              "      <th>Overall_Cond_Good</th>\n",
              "      <th>Overall_Cond_Poor</th>\n",
              "      <th>Overall_Cond_Very_Good</th>\n",
              "      <th>Overall_Cond_Very_Poor</th>\n",
              "      <th>Bldg_Type_OneFam</th>\n",
              "      <th>Bldg_Type_Twnhs</th>\n",
              "      <th>Bldg_Type_TwnhsE</th>\n",
              "      <th>Bldg_Type_TwoFmCon</th>\n",
              "      <th>Street_Pave</th>\n",
              "      <th>Heating_QC_Fair</th>\n",
              "      <th>Heating_QC_Good</th>\n",
              "      <th>Heating_QC_Poor</th>\n",
              "      <th>Heating_QC_Typical</th>\n",
              "    </tr>\n",
              "  </thead>\n",
              "  <tbody>\n",
              "    <tr>\n",
              "      <th>count</th>\n",
              "      <td>2930.000000</td>\n",
              "      <td>2930.000000</td>\n",
              "      <td>2930.000000</td>\n",
              "      <td>2930.000000</td>\n",
              "      <td>2930.000000</td>\n",
              "      <td>2930.000000</td>\n",
              "      <td>2930.000000</td>\n",
              "      <td>2930.000000</td>\n",
              "      <td>2930.000000</td>\n",
              "      <td>2930.000000</td>\n",
              "      <td>2930.000000</td>\n",
              "      <td>2930.000000</td>\n",
              "      <td>2930.000000</td>\n",
              "      <td>2930.000000</td>\n",
              "      <td>2930.000000</td>\n",
              "      <td>2930.000000</td>\n",
              "      <td>2930.000000</td>\n",
              "      <td>2930.000000</td>\n",
              "      <td>2930.000000</td>\n",
              "      <td>2930.000000</td>\n",
              "      <td>2930.000000</td>\n",
              "      <td>2930.000000</td>\n",
              "      <td>2930.000000</td>\n",
              "      <td>2930.000000</td>\n",
              "      <td>2930.000000</td>\n",
              "      <td>2930.000000</td>\n",
              "      <td>2930.000000</td>\n",
              "      <td>2930.000000</td>\n",
              "      <td>2930.000000</td>\n",
              "      <td>2930.000000</td>\n",
              "      <td>2930.000000</td>\n",
              "      <td>2930.000000</td>\n",
              "      <td>2930.000000</td>\n",
              "      <td>2930.000000</td>\n",
              "      <td>2930.000000</td>\n",
              "      <td>2930.000000</td>\n",
              "      <td>2930.000000</td>\n",
              "    </tr>\n",
              "    <tr>\n",
              "      <th>mean</th>\n",
              "      <td>10147.921843</td>\n",
              "      <td>1051.255631</td>\n",
              "      <td>1499.690444</td>\n",
              "      <td>0.431058</td>\n",
              "      <td>0.599317</td>\n",
              "      <td>1.766212</td>\n",
              "      <td>472.658362</td>\n",
              "      <td>93.751877</td>\n",
              "      <td>1971.356314</td>\n",
              "      <td>1984.266553</td>\n",
              "      <td>180796.060068</td>\n",
              "      <td>0.281570</td>\n",
              "      <td>0.077133</td>\n",
              "      <td>0.036519</td>\n",
              "      <td>0.013652</td>\n",
              "      <td>0.205461</td>\n",
              "      <td>0.004437</td>\n",
              "      <td>0.010580</td>\n",
              "      <td>0.119454</td>\n",
              "      <td>0.001365</td>\n",
              "      <td>0.564505</td>\n",
              "      <td>0.034471</td>\n",
              "      <td>0.013993</td>\n",
              "      <td>0.017065</td>\n",
              "      <td>0.133106</td>\n",
              "      <td>0.003413</td>\n",
              "      <td>0.049147</td>\n",
              "      <td>0.002389</td>\n",
              "      <td>0.827645</td>\n",
              "      <td>0.034471</td>\n",
              "      <td>0.079522</td>\n",
              "      <td>0.021160</td>\n",
              "      <td>0.995904</td>\n",
              "      <td>0.031399</td>\n",
              "      <td>0.162457</td>\n",
              "      <td>0.001024</td>\n",
              "      <td>0.294881</td>\n",
              "    </tr>\n",
              "    <tr>\n",
              "      <th>std</th>\n",
              "      <td>7880.017759</td>\n",
              "      <td>440.968018</td>\n",
              "      <td>505.508887</td>\n",
              "      <td>0.524762</td>\n",
              "      <td>0.647921</td>\n",
              "      <td>0.761137</td>\n",
              "      <td>215.187196</td>\n",
              "      <td>126.361562</td>\n",
              "      <td>30.245361</td>\n",
              "      <td>20.860286</td>\n",
              "      <td>79886.692357</td>\n",
              "      <td>0.449842</td>\n",
              "      <td>0.266848</td>\n",
              "      <td>0.187609</td>\n",
              "      <td>0.116061</td>\n",
              "      <td>0.404107</td>\n",
              "      <td>0.066473</td>\n",
              "      <td>0.102332</td>\n",
              "      <td>0.324377</td>\n",
              "      <td>0.036930</td>\n",
              "      <td>0.495906</td>\n",
              "      <td>0.182467</td>\n",
              "      <td>0.117482</td>\n",
              "      <td>0.129535</td>\n",
              "      <td>0.339747</td>\n",
              "      <td>0.058331</td>\n",
              "      <td>0.216211</td>\n",
              "      <td>0.048828</td>\n",
              "      <td>0.377753</td>\n",
              "      <td>0.182467</td>\n",
              "      <td>0.270598</td>\n",
              "      <td>0.143943</td>\n",
              "      <td>0.063876</td>\n",
              "      <td>0.174424</td>\n",
              "      <td>0.368933</td>\n",
              "      <td>0.031987</td>\n",
              "      <td>0.456067</td>\n",
              "    </tr>\n",
              "    <tr>\n",
              "      <th>min</th>\n",
              "      <td>1300.000000</td>\n",
              "      <td>0.000000</td>\n",
              "      <td>334.000000</td>\n",
              "      <td>0.000000</td>\n",
              "      <td>0.000000</td>\n",
              "      <td>0.000000</td>\n",
              "      <td>0.000000</td>\n",
              "      <td>0.000000</td>\n",
              "      <td>1872.000000</td>\n",
              "      <td>1950.000000</td>\n",
              "      <td>12789.000000</td>\n",
              "      <td>0.000000</td>\n",
              "      <td>0.000000</td>\n",
              "      <td>0.000000</td>\n",
              "      <td>0.000000</td>\n",
              "      <td>0.000000</td>\n",
              "      <td>0.000000</td>\n",
              "      <td>0.000000</td>\n",
              "      <td>0.000000</td>\n",
              "      <td>0.000000</td>\n",
              "      <td>0.000000</td>\n",
              "      <td>0.000000</td>\n",
              "      <td>0.000000</td>\n",
              "      <td>0.000000</td>\n",
              "      <td>0.000000</td>\n",
              "      <td>0.000000</td>\n",
              "      <td>0.000000</td>\n",
              "      <td>0.000000</td>\n",
              "      <td>0.000000</td>\n",
              "      <td>0.000000</td>\n",
              "      <td>0.000000</td>\n",
              "      <td>0.000000</td>\n",
              "      <td>0.000000</td>\n",
              "      <td>0.000000</td>\n",
              "      <td>0.000000</td>\n",
              "      <td>0.000000</td>\n",
              "      <td>0.000000</td>\n",
              "    </tr>\n",
              "    <tr>\n",
              "      <th>25%</th>\n",
              "      <td>7440.250000</td>\n",
              "      <td>793.000000</td>\n",
              "      <td>1126.000000</td>\n",
              "      <td>0.000000</td>\n",
              "      <td>0.000000</td>\n",
              "      <td>1.000000</td>\n",
              "      <td>320.000000</td>\n",
              "      <td>0.000000</td>\n",
              "      <td>1954.000000</td>\n",
              "      <td>1965.000000</td>\n",
              "      <td>129500.000000</td>\n",
              "      <td>0.000000</td>\n",
              "      <td>0.000000</td>\n",
              "      <td>0.000000</td>\n",
              "      <td>0.000000</td>\n",
              "      <td>0.000000</td>\n",
              "      <td>0.000000</td>\n",
              "      <td>0.000000</td>\n",
              "      <td>0.000000</td>\n",
              "      <td>0.000000</td>\n",
              "      <td>0.000000</td>\n",
              "      <td>0.000000</td>\n",
              "      <td>0.000000</td>\n",
              "      <td>0.000000</td>\n",
              "      <td>0.000000</td>\n",
              "      <td>0.000000</td>\n",
              "      <td>0.000000</td>\n",
              "      <td>0.000000</td>\n",
              "      <td>1.000000</td>\n",
              "      <td>0.000000</td>\n",
              "      <td>0.000000</td>\n",
              "      <td>0.000000</td>\n",
              "      <td>1.000000</td>\n",
              "      <td>0.000000</td>\n",
              "      <td>0.000000</td>\n",
              "      <td>0.000000</td>\n",
              "      <td>0.000000</td>\n",
              "    </tr>\n",
              "    <tr>\n",
              "      <th>50%</th>\n",
              "      <td>9436.500000</td>\n",
              "      <td>990.000000</td>\n",
              "      <td>1442.000000</td>\n",
              "      <td>0.000000</td>\n",
              "      <td>1.000000</td>\n",
              "      <td>2.000000</td>\n",
              "      <td>480.000000</td>\n",
              "      <td>0.000000</td>\n",
              "      <td>1973.000000</td>\n",
              "      <td>1993.000000</td>\n",
              "      <td>160000.000000</td>\n",
              "      <td>0.000000</td>\n",
              "      <td>0.000000</td>\n",
              "      <td>0.000000</td>\n",
              "      <td>0.000000</td>\n",
              "      <td>0.000000</td>\n",
              "      <td>0.000000</td>\n",
              "      <td>0.000000</td>\n",
              "      <td>0.000000</td>\n",
              "      <td>0.000000</td>\n",
              "      <td>1.000000</td>\n",
              "      <td>0.000000</td>\n",
              "      <td>0.000000</td>\n",
              "      <td>0.000000</td>\n",
              "      <td>0.000000</td>\n",
              "      <td>0.000000</td>\n",
              "      <td>0.000000</td>\n",
              "      <td>0.000000</td>\n",
              "      <td>1.000000</td>\n",
              "      <td>0.000000</td>\n",
              "      <td>0.000000</td>\n",
              "      <td>0.000000</td>\n",
              "      <td>1.000000</td>\n",
              "      <td>0.000000</td>\n",
              "      <td>0.000000</td>\n",
              "      <td>0.000000</td>\n",
              "      <td>0.000000</td>\n",
              "    </tr>\n",
              "    <tr>\n",
              "      <th>75%</th>\n",
              "      <td>11555.250000</td>\n",
              "      <td>1301.500000</td>\n",
              "      <td>1742.750000</td>\n",
              "      <td>1.000000</td>\n",
              "      <td>1.000000</td>\n",
              "      <td>2.000000</td>\n",
              "      <td>576.000000</td>\n",
              "      <td>168.000000</td>\n",
              "      <td>2001.000000</td>\n",
              "      <td>2004.000000</td>\n",
              "      <td>213500.000000</td>\n",
              "      <td>1.000000</td>\n",
              "      <td>0.000000</td>\n",
              "      <td>0.000000</td>\n",
              "      <td>0.000000</td>\n",
              "      <td>0.000000</td>\n",
              "      <td>0.000000</td>\n",
              "      <td>0.000000</td>\n",
              "      <td>0.000000</td>\n",
              "      <td>0.000000</td>\n",
              "      <td>1.000000</td>\n",
              "      <td>0.000000</td>\n",
              "      <td>0.000000</td>\n",
              "      <td>0.000000</td>\n",
              "      <td>0.000000</td>\n",
              "      <td>0.000000</td>\n",
              "      <td>0.000000</td>\n",
              "      <td>0.000000</td>\n",
              "      <td>1.000000</td>\n",
              "      <td>0.000000</td>\n",
              "      <td>0.000000</td>\n",
              "      <td>0.000000</td>\n",
              "      <td>1.000000</td>\n",
              "      <td>0.000000</td>\n",
              "      <td>0.000000</td>\n",
              "      <td>0.000000</td>\n",
              "      <td>1.000000</td>\n",
              "    </tr>\n",
              "    <tr>\n",
              "      <th>max</th>\n",
              "      <td>215245.000000</td>\n",
              "      <td>6110.000000</td>\n",
              "      <td>5642.000000</td>\n",
              "      <td>3.000000</td>\n",
              "      <td>4.000000</td>\n",
              "      <td>5.000000</td>\n",
              "      <td>1488.000000</td>\n",
              "      <td>1424.000000</td>\n",
              "      <td>2010.000000</td>\n",
              "      <td>2010.000000</td>\n",
              "      <td>755000.000000</td>\n",
              "      <td>1.000000</td>\n",
              "      <td>1.000000</td>\n",
              "      <td>1.000000</td>\n",
              "      <td>1.000000</td>\n",
              "      <td>1.000000</td>\n",
              "      <td>1.000000</td>\n",
              "      <td>1.000000</td>\n",
              "      <td>1.000000</td>\n",
              "      <td>1.000000</td>\n",
              "      <td>1.000000</td>\n",
              "      <td>1.000000</td>\n",
              "      <td>1.000000</td>\n",
              "      <td>1.000000</td>\n",
              "      <td>1.000000</td>\n",
              "      <td>1.000000</td>\n",
              "      <td>1.000000</td>\n",
              "      <td>1.000000</td>\n",
              "      <td>1.000000</td>\n",
              "      <td>1.000000</td>\n",
              "      <td>1.000000</td>\n",
              "      <td>1.000000</td>\n",
              "      <td>1.000000</td>\n",
              "      <td>1.000000</td>\n",
              "      <td>1.000000</td>\n",
              "      <td>1.000000</td>\n",
              "      <td>1.000000</td>\n",
              "    </tr>\n",
              "  </tbody>\n",
              "</table>\n",
              "</div>"
            ],
            "text/plain": [
              "            Lot_Area  Total_Bsmt_SF  ...  Heating_QC_Poor  Heating_QC_Typical\n",
              "count    2930.000000    2930.000000  ...      2930.000000         2930.000000\n",
              "mean    10147.921843    1051.255631  ...         0.001024            0.294881\n",
              "std      7880.017759     440.968018  ...         0.031987            0.456067\n",
              "min      1300.000000       0.000000  ...         0.000000            0.000000\n",
              "25%      7440.250000     793.000000  ...         0.000000            0.000000\n",
              "50%      9436.500000     990.000000  ...         0.000000            0.000000\n",
              "75%     11555.250000    1301.500000  ...         0.000000            1.000000\n",
              "max    215245.000000    6110.000000  ...         1.000000            1.000000\n",
              "\n",
              "[8 rows x 37 columns]"
            ]
          },
          "metadata": {
            "tags": []
          },
          "execution_count": 13
        }
      ]
    },
    {
      "cell_type": "code",
      "metadata": {
        "colab_type": "code",
        "id": "r3T6yBVx5qYB",
        "outputId": "bf1d5ede-9cc3-497f-d330-80bc80072653",
        "colab": {
          "base_uri": "https://localhost:8080/",
          "height": 52
        }
      },
      "source": [
        "X = house_prices.drop(['Sale_Price'], axis=1).to_numpy()\n",
        "y = house_prices['Sale_Price'].to_numpy().reshape((house_prices.shape[0], 1))\n",
        "\n",
        "print(X.shape)\n",
        "print(y.shape)"
      ],
      "execution_count": 0,
      "outputs": [
        {
          "output_type": "stream",
          "text": [
            "(2930, 36)\n",
            "(2930, 1)\n"
          ],
          "name": "stdout"
        }
      ]
    },
    {
      "cell_type": "code",
      "metadata": {
        "colab_type": "code",
        "id": "0B6Z_YDHp_oc",
        "outputId": "424fb85d-7e65-4fb0-d619-81f1c6eb6ab0",
        "colab": {
          "base_uri": "https://localhost:8080/",
          "height": 104
        }
      },
      "source": [
        "X_train_val, X_test, y_train_val, y_test = train_test_split(X, y, test_size=0.2, random_state=42)\n",
        "X_train, X_val, y_train, y_val = train_test_split(X_train_val, y_train_val, test_size = 0.2, random_state=42)\n",
        "\n",
        "print(X_train.shape)\n",
        "print(X_test.shape)\n",
        "print(X_val.shape)\n",
        "\n",
        "\n",
        "print(y_test.shape)\n",
        "print(y_train.shape)"
      ],
      "execution_count": 0,
      "outputs": [
        {
          "output_type": "stream",
          "text": [
            "(1875, 36)\n",
            "(586, 36)\n",
            "(469, 36)\n",
            "(586, 1)\n",
            "(1875, 1)\n"
          ],
          "name": "stdout"
        }
      ]
    },
    {
      "cell_type": "markdown",
      "metadata": {
        "colab_type": "text",
        "id": "pVwwMAlE7o6N"
      },
      "source": [
        "#### (a) Define an appropriate model in Keras.  Use Adam ('adam') for your optimizer and no additional metrics of performance other than your loss function.  Run the estimation process for about 1000 epochs using a batch size equal to the number of examples in your training set (this will take about a minute).  We'll see what these things mean starting next week.\n",
        "Things to consider:\n",
        "\n",
        "* How many units do you need in your output layer?\n",
        "* What activation function do you want to use?\n",
        "* How many inputs (features) will your network use?\n",
        "* What is the appropriate loss function to use?\n",
        "\n",
        "**Note: the only scenario where you'd use a method like this to fit a basic linear model is if your training set was too large to use other methods.  For a basic regression model there are much faster approaches to parameter estimation based on direct matrix manipulations.**  We're doing this to get practice setting up models in Keras and working with the results.  You'll likely see that when the estimation process stops the loss function is still decreasing, indicating that you have not yet reached a minimum of the negative log-likelihood.  If we really wanted the best-performing model, we'd let estimation keep running.  You can do that if you want to, but there's no need to for the purpose of this assignment.\n"
      ]
    },
    {
      "cell_type": "code",
      "metadata": {
        "colab_type": "code",
        "id": "ZtlNGkJ270jU",
        "colab": {}
      },
      "source": [
        "my_model = models.Sequential()\n",
        "my_model.add(layers.Dense(units = 1, activation = 'linear', input_shape = (36,)))\n",
        "\n",
        "my_model.compile(optimizer = 'adam', loss = 'mean_squared_error')\n",
        "\n",
        "my_model.fit(X_train, y_train,\n",
        "  validation_data = (X_val, y_val),\n",
        "  epochs = 1000, batch_size = 1875)\n"
      ],
      "execution_count": 0,
      "outputs": []
    },
    {
      "cell_type": "markdown",
      "metadata": {
        "colab_type": "text",
        "id": "6fQ_2SOADcz2"
      },
      "source": [
        "#### (b) Get an evaluation of the performance of your model on the test set using the built-in Keras function `evaluate`.  Is there evidence that your model has overfit the training data?  (See the solutions for lab 1 or ask if you're not sure what this means.)"
      ]
    },
    {
      "cell_type": "code",
      "metadata": {
        "colab_type": "code",
        "id": "BP7UU0VX9Sw1",
        "outputId": "ba408523-00ee-42f3-ed78-92f7238cb813",
        "colab": {
          "base_uri": "https://localhost:8080/",
          "height": 350
        }
      },
      "source": [
        "print(my_model.evaluate(X_test, y_test))\n",
        "\n",
        "y_hat = my_model.predict(X_test)\n",
        "\n",
        "print(\"shape of y hat \" + str(y_hat.shape))\n",
        "print(\"shape of y test\" + str(y_test.shape))\n",
        "\n",
        "fig, ax = plt.subplots()\n",
        "ax.scatter(y_test, y_hat)\n",
        "ax.set_xlabel('Measured')\n",
        "ax.set_ylabel('Predicted')\n",
        "plt.show()"
      ],
      "execution_count": 0,
      "outputs": [
        {
          "output_type": "stream",
          "text": [
            "586/586 [==============================] - 0s 41us/step\n",
            "36894693914.2116\n",
            "shape of y hat (586, 1)\n",
            "shape of y test(586, 1)\n"
          ],
          "name": "stdout"
        },
        {
          "output_type": "display_data",
          "data": {
            "image/png": "[encoded data removed]",
            "text/plain": [
              "<Figure size 432x288 with 1 Axes>"
            ]
          },
          "metadata": {
            "tags": []
          }
        }
      ]
    },
    {
      "cell_type": "markdown",
      "metadata": {
        "id": "i_lN7PFwWkxa",
        "colab_type": "text"
      },
      "source": [
        "It is 'overfitting' because the test evaluation is significantly more than the training mse. "
      ]
    },
    {
      "cell_type": "markdown",
      "metadata": {
        "colab_type": "text",
        "id": "TW8QMx_RQFBn"
      },
      "source": [
        "#### (c) Find the test set performance of your model by manually obtaining the predicted values and computing the test set mean squared error based on them."
      ]
    },
    {
      "cell_type": "code",
      "metadata": {
        "colab_type": "code",
        "id": "ChYWP0y2QTI_",
        "outputId": "65de7094-963b-4eab-ffd9-d10c0317cb06",
        "colab": {
          "base_uri": "https://localhost:8080/",
          "height": 104
        }
      },
      "source": [
        "# Extract the w and b estimates\n",
        "(w, b) = my_model.layers[0].get_weights()\n",
        "b = b.reshape(b.shape[0], 1)\n",
        "print(\"b shape = \" + str(b.shape))\n",
        "print(\"w shape = \" + str(w.shape))\n",
        "print(\"X train shape\" + str(X_train.shape))\n",
        "# Calculate a vector of z's\n",
        "z = b + np.dot(w.T, X_train.T) # replace None to the left with an actual calculation\n",
        "\n",
        "print(\"z\" + str(z.shape))\n",
        "\n",
        "# Calculate a vector of a's\n",
        "a = z # replace None to the left with an actual calculation\n",
        "\n",
        "print(\"a\" + str(a.shape))\n",
        "\n",
        "# Calculate and print the test set MSE\n",
        "MSE = y_test - b + np.dot(w.T, x_test)\n"
      ],
      "execution_count": 0,
      "outputs": [
        {
          "output_type": "stream",
          "text": [
            "b shape = (1, 1)\n",
            "w shape = (36, 1)\n",
            "X train shape(1875, 36)\n",
            "z(1, 1875)\n",
            "a(1, 1875)\n"
          ],
          "name": "stdout"
        }
      ]
    },
    {
      "cell_type": "markdown",
      "metadata": {
        "colab_type": "text",
        "id": "hiN8hvUMaHO6"
      },
      "source": [
        "## Problem 2: Forest cover type prediction\n",
        "We have a data set from with characteristics of land in national forests; our goal is to predict the type of forest on that land.  There are 7 possible forest types: Spruce/Fir, Lodgepole Pine, Ponderosa Pine, Cottonwood/Willow, Aspen, Douglas-fir, or Krummholz.  Our features are things like elevation, slope of land, distance to water, soil type, and so on.  (Original data source: https://archive.ics.uci.edu/ml/datasets/Covertype)\n",
        "\n"
      ]
    },
    {
      "cell_type": "code",
      "metadata": {
        "colab_type": "code",
        "id": "VNp5PN3ubNcu",
        "outputId": "72ddd8b4-ab4c-4899-8cc7-2ad9652e7d0a",
        "colab": {
          "base_uri": "https://localhost:8080/",
          "height": 34
        }
      },
      "source": [
        "# read in data\n",
        "forest_cover = pd.read_csv(\"http://www.evanlray.com/data/UCIML/forest_cover/covtype.data\")\n",
        "\n",
        "# drop a couple of columns of all 0's\n",
        "to_drop = [20, 28]\n",
        "forest_cover.drop(forest_cover.columns[to_drop], axis = 1, inplace=True)\n",
        "\n",
        "# how much data do we have?\n",
        "print(\"shape of forest_cover = \" + str(forest_cover.shape))\n",
        "\n",
        "# perform a train/validation/test split\n",
        "# the indices of the split are the same as what was used in the original paper.\n",
        "# note that their test set is much larger than their train set, but you would\n",
        "# never do this in real life.\n",
        "train_slice = slice(0, 11340)\n",
        "val_slice = slice(11340, 11340+3780)\n",
        "test_slice = slice(11340+3780, 11340+3780+565892)\n",
        "\n",
        "X_train = forest_cover.iloc[train_slice, 0:52].to_numpy()\n",
        "y_train = forest_cover.iloc[train_slice, 52].to_numpy() - 1\n",
        "\n",
        "X_val = forest_cover.iloc[val_slice, 0:52].to_numpy()\n",
        "y_val = forest_cover.iloc[val_slice, 52].to_numpy() - 1\n",
        "\n",
        "X_test = forest_cover.iloc[test_slice, 0:52].to_numpy()\n",
        "y_test = forest_cover.iloc[test_slice, 52].to_numpy() - 1"
      ],
      "execution_count": 0,
      "outputs": [
        {
          "output_type": "stream",
          "text": [
            "shape of forest_cover = (581011, 53)\n"
          ],
          "name": "stdout"
        }
      ]
    },
    {
      "cell_type": "markdown",
      "metadata": {
        "colab_type": "text",
        "id": "qob0HzpLrBKh"
      },
      "source": [
        "#### (a) In lab 1, I claimed that an essential preprocessing step for neural networks is to center and scale the inputs.  That isn't really necessary with just a multiple regression model like in problem 1, but it is necessary as soon as you start using sigmoid or softmax activations -- which you'll need in this problem.  Do the input normalization here.\n",
        "\n",
        "Note that you did this in lab 1, so you could just go find your old code there.  But you might like to try recreating it from scratch first.  (You want to eventually just know how to do things.)"
      ]
    },
    {
      "cell_type": "code",
      "metadata": {
        "colab_type": "code",
        "id": "h5_iOolnb8Yy",
        "outputId": "bbdcba80-8668-4de3-abad-184a960d2315",
        "colab": {
          "base_uri": "https://localhost:8080/",
          "height": 69
        }
      },
      "source": [
        "X_train_mean = np.mean(X_train, axis = 0) # add a call to np.mean here.  what will you use for the axis?\n",
        "X_train_std =  np.std(X_train, axis = 0)# add a call to np.std here.  what will you use for the axis?\n",
        "\n",
        "print(X_train.shape)\n",
        "print(X_train_mean.shape)\n",
        "print(X_train_std.shape)\n",
        "\n",
        "X_train = X_train - X_train_mean # add code here to subtract the column means from X_train.  How will broadcasting work?\n",
        "X_train = X_train/X_train_std# add code here to divide X_train by the column standard deviations.  How will broadcasting work?\n",
        "\n",
        "# normalize X_val, but using X_train_mean and X_train_std to do the normalization\n",
        "X_val = X_val - X_train_mean # add code here to subtract the column means from X_val\n",
        "X_val = X_val/X_train_std # add code here to divide X_val by the column standard deviations\n",
        "\n",
        "# normalize X_test, but using X_train_mean and X_train_std to do the normalization\n",
        "X_test = X_test - X_train_mean# add code here to subtract the column means from X_test\n",
        "X_test = X_test/X_train_std# add code here to divide X_test by the column standard deviations\n"
      ],
      "execution_count": 0,
      "outputs": [
        {
          "output_type": "stream",
          "text": [
            "(11340, 52)\n",
            "(52,)\n",
            "(52,)\n"
          ],
          "name": "stdout"
        }
      ]
    },
    {
      "cell_type": "markdown",
      "metadata": {
        "colab_type": "text",
        "id": "ZC2-YMnQsarO"
      },
      "source": [
        "#### (b) Define an appropriate model in Keras.  Use stochastic gradient descent ('sgd') for your optimizer and 'accuracy' as an evaluation metric, and run the estimation process for 1000 epochs using a batch size equal to the number of examples in your training set.  We'll see what these things mean starting next week.\n",
        "Things to consider:\n",
        "\n",
        "* How many units do you need in your output layer?\n",
        "* What activation function do you want to use?\n",
        "* How many inputs (features) will your network use?\n",
        "* What is the appropriate loss function to use?"
      ]
    },
    {
      "cell_type": "code",
      "metadata": {
        "colab_type": "code",
        "id": "1JZjbKGte8Gj",
        "colab": {}
      },
      "source": [
        "treez = models.Sequential()\n",
        "\n",
        "treez.add(Dense(units = 3, activation = \"relu\", input_shape = (52, )))\n",
        "treez.add(Dense(units = 7, activation = \"softmax\", input_shape = (52,)))\n",
        "\n",
        "treez.compile(optimizer = 'sgd', loss = \"categorical_crossentropy h\", metrics = 'accuracy')\n",
        "\n",
        "\n",
        "treez.fit(X_train, y_train,\n",
        "  validation_data = (X_val, y_val),\n",
        "  epochs = 11340, batch_size = 1875)"
      ],
      "execution_count": 0,
      "outputs": []
    },
    {
      "cell_type": "markdown",
      "metadata": {
        "colab_type": "text",
        "id": "nl_1PJeVtnYQ"
      },
      "source": [
        "#### (c) Get an evaluation of the performance of your model on the test set using the built-in Keras function `evaluate`.  Is there evidence that your model has overfit the training data?  (See the solutions for lab 1 or ask me if you're not sure what this means.)"
      ]
    },
    {
      "cell_type": "code",
      "metadata": {
        "colab_type": "code",
        "id": "EXsuIGyCcOM5",
        "colab": {}
      },
      "source": [
        "print(my_model.evaluate(X_test, y_test))"
      ],
      "execution_count": 0,
      "outputs": []
    },
    {
      "cell_type": "markdown",
      "metadata": {
        "colab_type": "text",
        "id": "tFwZyVntukRF"
      },
      "source": [
        "#### (d) Write your own version of the softmax function according to the docstring in the starter function below.\n",
        "Note that this function expects each observation to be represented in a column of the matrix `z`."
      ]
    },
    {
      "cell_type": "code",
      "metadata": {
        "colab_type": "code",
        "id": "KWaImUCSwiZO",
        "colab": {}
      },
      "source": [
        "def my_softmax(z):\n",
        "  '''\n",
        "  Calculate softmax(z) where z is a K by m matrix\n",
        "  \n",
        "  Arguments:\n",
        "   - z, a K by m matrix: the entry in row j and column i of z contains \n",
        "     b_j + w_j^T x^(i), the linear combination of input features for class j and\n",
        "     observation m (we're assuming this computation has already been done for us)\n",
        "  \n",
        "  Return:\n",
        "   - a K by M matrix where column m is calculated as softmax of column m of z\n",
        "  '''\n",
        "  return softmax(z)"
      ],
      "execution_count": 0,
      "outputs": []
    },
    {
      "cell_type": "markdown",
      "metadata": {
        "colab_type": "text",
        "id": "8zn7cK0RxVsN"
      },
      "source": [
        "If you want, you can test your function above out with the following code to make sure it seems to be working (all entries of the result should be non-negative, and the columns should add up to 1):"
      ]
    },
    {
      "cell_type": "code",
      "metadata": {
        "colab_type": "code",
        "id": "dyhSNivSxeIO",
        "colab": {}
      },
      "source": [
        "z = np.array([[17, 5, 2, 7],\n",
        "              [5, 5, 1, 2],\n",
        "              [2, 2, 6, -10]])\n",
        "my_softmax(z)"
      ],
      "execution_count": 0,
      "outputs": []
    },
    {
      "cell_type": "markdown",
      "metadata": {
        "colab_type": "text",
        "id": "jwgj29GFt0B9"
      },
      "source": [
        "#### (e) Find the test set performance of your model by manually obtaining the predicted values."
      ]
    },
    {
      "cell_type": "markdown",
      "metadata": {
        "colab_type": "text",
        "id": "PvTSOP4ToqUO"
      },
      "source": [
        "At some point, you will need to use the softmax function.  Although you wrote your own softmax function above, you should instead use the softmax function from the scipy package that was imported above.  Its implementation is more numerically stable; I'll talk more about this some time later.\n",
        "\n",
        "To find the class with the highest probability based on your `a` array, check out the [argmax](https://docs.scipy.org/doc/numpy/reference/generated/numpy.argmax.html) function in numpy.  This function will find the index of the largest entry along a given `axis` in a vector."
      ]
    },
    {
      "cell_type": "code",
      "metadata": {
        "colab_type": "code",
        "id": "3vlQy-69kKbQ",
        "colab": {}
      },
      "source": [
        "# The next two lines extract the estimated weights w and bias b from the model\n",
        "# fit and then reshape b to be a 7 by 1 matrix.\n",
        "(w, b) = multi_logistic_model.layers[0].get_weights()\n",
        "b = b.reshape(b.shape[0], 1)\n",
        "\n",
        "# Calculate the vector z here:\n",
        "# This should involve b, X_test, and w.  Use np.dot() and broadcasting.\n",
        "# Do you need to find any transposes?\n",
        "z = \n",
        "\n",
        "# Calculate the activation a:\n",
        "# Use the softmax function.  The softmax function takes an axis argument.\n",
        "# The axis to use depends on how you set up your calculation for z.\n",
        "a =  # use softmax here\n",
        "\n",
        "# Find the predicted value y hat for each observation\n",
        "y_hat =  # use np.argmax here\n",
        "\n",
        "# For each prediction, determine whether the prediction was correct by\n",
        "# comparing it to the observed test set response.  The result of this\n",
        "# calculation should be a logical vector of the same shape as y_test\n",
        "# that is True for cases where the test set prediction was correct and False\n",
        "# for test set cases where the prediction was wrong.\n",
        "# Careful!  Make sure y_hat and y_test have the same shape before comparing\n",
        "# them, or else you'll accidentally broadcast the comparison and be confused...\n",
        "y_hat_correct_lgl = \n",
        "\n",
        "# Determine what proportion of your test set predictions were correct by\n",
        "# calculating the *mean* of the values in the y_hat_correct_lgl variable.\n",
        "# Note that any True values (correct predictions) are converted to 1 and False\n",
        "# values are converted to 0 when you do this calculation.\n",
        "proportion_correct = \n",
        "\n",
        "# Print the proportion correct so you can see it after running this code cell\n",
        "print(\"Proportion correct = \" + str(proportion_correct))"
      ],
      "execution_count": 0,
      "outputs": []
    }
  ]
}